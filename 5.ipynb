{
  "nbformat": 4,
  "nbformat_minor": 0,
  "metadata": {
    "colab": {
      "provenance": []
    },
    "kernelspec": {
      "name": "python3",
      "display_name": "Python 3"
    },
    "language_info": {
      "name": "python"
    }
  },
  "cells": [
    {
      "cell_type": "code",
      "execution_count": 14,
      "metadata": {
        "id": "1jnkmdc6nLAE"
      },
      "outputs": [],
      "source": [
        "from sklearn.model_selection import train_test_split\n",
        "from tensorflow.keras.datasets import mnist\n",
        "\n",
        "# Memuat dataset MNIST\n",
        "(X, y), (_, _) = mnist.load_data()\n",
        "\n",
        "# Reshape gambar menjadi vektor satu dimensi\n",
        "X = X.reshape((X.shape[0], -1))\n",
        "\n",
        "# Bagi dataset menjadi data latih dan data uji (misalnya, 80% latih, 20% uji)\n",
        "X_train, X_test, y_train, y_test = train_test_split(X, y, test_size=0.2, random_state=42)\n",
        "\n",
        "# Pastikan untuk mengubah kembali dimensi gambar jika menggunakan CNN\n",
        "# Jika menggunakan model sederhana, langkah ini mungkin tidak diperlukan\n",
        "# X_train = X_train.reshape((X_train.shape[0], 28, 28))\n",
        "# X_test = X_test.reshape((X_test.shape[0], 28, 28))\n"
      ]
    },
    {
      "cell_type": "code",
      "source": [
        "from sklearn.model_selection import train_test_split\n",
        "from tensorflow.keras.datasets import mnist\n",
        "\n",
        "# Load dataset\n",
        "(x_train, y_train), (x_test, y_test) = mnist.load_data()\n",
        "\n",
        "# Reshape and normalize the input data\n",
        "x_train = x_train.reshape((len(x_train), -1)) / 255.0\n",
        "x_test = x_test.reshape((len(x_test), -1)) / 255.0\n",
        "\n",
        "# Split the dataset into training and testing sets\n",
        "x_train, x_val, y_train, y_val = train_test_split(x_train, y_train, test_size=0.2, random_state=42)\n"
      ],
      "metadata": {
        "id": "lepIIlbynmyl"
      },
      "execution_count": 16,
      "outputs": []
    },
    {
      "cell_type": "code",
      "source": [
        "from tensorflow.keras import Sequential\n",
        "from tensorflow.keras.layers import Dense\n",
        "\n",
        "# Create a simple neural network model\n",
        "model = Sequential()\n",
        "model.add(Dense(128, activation='relu', input_shape=(784,)))\n",
        "model.add(Dense(10, activation='softmax'))\n",
        "\n",
        "# Compile the model\n",
        "model.compile(optimizer='adam', loss='sparse_categorical_crossentropy', metrics=['accuracy'])\n",
        "\n",
        "# Train the model\n",
        "model.fit(x_train, y_train, epochs=10, batch_size=32, validation_data=(x_val, y_val))\n"
      ],
      "metadata": {
        "colab": {
          "base_uri": "https://localhost:8080/"
        },
        "id": "_fGBYijaonAJ",
        "outputId": "3ab19b04-a953-4462-c121-1cfe5ebfe1fa"
      },
      "execution_count": 17,
      "outputs": [
        {
          "output_type": "stream",
          "name": "stdout",
          "text": [
            "Epoch 1/10\n",
            "1500/1500 [==============================] - 7s 4ms/step - loss: 0.2894 - accuracy: 0.9170 - val_loss: 0.1803 - val_accuracy: 0.9470\n",
            "Epoch 2/10\n",
            "1500/1500 [==============================] - 5s 3ms/step - loss: 0.1321 - accuracy: 0.9613 - val_loss: 0.1230 - val_accuracy: 0.9637\n",
            "Epoch 3/10\n",
            "1500/1500 [==============================] - 6s 4ms/step - loss: 0.0895 - accuracy: 0.9731 - val_loss: 0.1037 - val_accuracy: 0.9691\n",
            "Epoch 4/10\n",
            "1500/1500 [==============================] - 5s 3ms/step - loss: 0.0679 - accuracy: 0.9796 - val_loss: 0.0967 - val_accuracy: 0.9709\n",
            "Epoch 5/10\n",
            "1500/1500 [==============================] - 6s 4ms/step - loss: 0.0517 - accuracy: 0.9845 - val_loss: 0.0928 - val_accuracy: 0.9737\n",
            "Epoch 6/10\n",
            "1500/1500 [==============================] - 5s 4ms/step - loss: 0.0397 - accuracy: 0.9881 - val_loss: 0.0832 - val_accuracy: 0.9758\n",
            "Epoch 7/10\n",
            "1500/1500 [==============================] - 7s 5ms/step - loss: 0.0318 - accuracy: 0.9902 - val_loss: 0.0828 - val_accuracy: 0.9758\n",
            "Epoch 8/10\n",
            "1500/1500 [==============================] - 5s 3ms/step - loss: 0.0254 - accuracy: 0.9922 - val_loss: 0.0828 - val_accuracy: 0.9773\n",
            "Epoch 9/10\n",
            "1500/1500 [==============================] - 7s 5ms/step - loss: 0.0216 - accuracy: 0.9933 - val_loss: 0.0827 - val_accuracy: 0.9772\n",
            "Epoch 10/10\n",
            "1500/1500 [==============================] - 8s 5ms/step - loss: 0.0175 - accuracy: 0.9949 - val_loss: 0.0871 - val_accuracy: 0.9776\n"
          ]
        },
        {
          "output_type": "execute_result",
          "data": {
            "text/plain": [
              "<keras.src.callbacks.History at 0x78f552ed6500>"
            ]
          },
          "metadata": {},
          "execution_count": 17
        }
      ]
    },
    {
      "cell_type": "code",
      "source": [
        "# Predict labels for the test set\n",
        "import numpy as np\n",
        "y_pred_probs = model.predict(x_test)\n",
        "y_pred = np.argmax(y_pred_probs, axis=1)\n"
      ],
      "metadata": {
        "colab": {
          "base_uri": "https://localhost:8080/"
        },
        "id": "3-l3inCoorJj",
        "outputId": "caa919ab-5cd6-404f-a340-458dc9376b0c"
      },
      "execution_count": 22,
      "outputs": [
        {
          "output_type": "stream",
          "name": "stdout",
          "text": [
            "313/313 [==============================] - 1s 2ms/step\n"
          ]
        }
      ]
    },
    {
      "cell_type": "code",
      "source": [
        "from sklearn.metrics import accuracy_score\n",
        "\n",
        "# Calculate accuracy\n",
        "accuracy = accuracy_score(y_test, y_pred)\n",
        "print(f\"Accuracy: {accuracy * 100:.2f}%\")\n"
      ],
      "metadata": {
        "colab": {
          "base_uri": "https://localhost:8080/"
        },
        "id": "LWOdhTM1sfgh",
        "outputId": "a5794ad3-a7b9-4338-8c3a-8db81075d81f"
      },
      "execution_count": 23,
      "outputs": [
        {
          "output_type": "stream",
          "name": "stdout",
          "text": [
            "Accuracy: 97.64%\n"
          ]
        }
      ]
    }
  ]
}